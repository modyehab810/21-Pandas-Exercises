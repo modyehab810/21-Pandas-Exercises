{
 "cells": [
  {
   "cell_type": "markdown",
   "metadata": {},
   "source": [
    "# Getting Financial Data - Pandas Datareader"
   ]
  },
  {
   "cell_type": "markdown",
   "metadata": {},
   "source": [
    "### Introduction:\n",
    "\n",
    "This time you will get data from a website.\n",
    "\n",
    "\n",
    "### Step 1. Import the necessary libraries"
   ]
  },
  {
   "cell_type": "code",
   "execution_count": 1,
   "metadata": {},
   "outputs": [
    {
     "name": "stdout",
     "output_type": "stream",
     "text": [
      "Defaulting to user installation because normal site-packages is not writeable\n",
      "Requirement already satisfied: pandas_datareader in c:\\users\\org\\appdata\\roaming\\python\\python310\\site-packages (0.10.0)\n",
      "Requirement already satisfied: requests>=2.19.0 in d:\\anconda\\anaconda\\lib\\site-packages (from pandas_datareader) (2.28.1)\n",
      "Requirement already satisfied: pandas>=0.23 in d:\\anconda\\anaconda\\lib\\site-packages (from pandas_datareader) (1.5.3)\n",
      "Requirement already satisfied: lxml in d:\\anconda\\anaconda\\lib\\site-packages (from pandas_datareader) (4.9.1)\n",
      "Requirement already satisfied: python-dateutil>=2.8.1 in d:\\anconda\\anaconda\\lib\\site-packages (from pandas>=0.23->pandas_datareader) (2.8.2)\n",
      "Requirement already satisfied: numpy>=1.21.0 in d:\\anconda\\anaconda\\lib\\site-packages (from pandas>=0.23->pandas_datareader) (1.23.5)\n",
      "Requirement already satisfied: pytz>=2020.1 in d:\\anconda\\anaconda\\lib\\site-packages (from pandas>=0.23->pandas_datareader) (2022.7)\n",
      "Requirement already satisfied: certifi>=2017.4.17 in d:\\anconda\\anaconda\\lib\\site-packages (from requests>=2.19.0->pandas_datareader) (2023.7.22)\n",
      "Requirement already satisfied: charset-normalizer<3,>=2 in d:\\anconda\\anaconda\\lib\\site-packages (from requests>=2.19.0->pandas_datareader) (2.0.4)\n",
      "Requirement already satisfied: idna<4,>=2.5 in d:\\anconda\\anaconda\\lib\\site-packages (from requests>=2.19.0->pandas_datareader) (3.4)\n",
      "Requirement already satisfied: urllib3<1.27,>=1.21.1 in d:\\anconda\\anaconda\\lib\\site-packages (from requests>=2.19.0->pandas_datareader) (1.26.14)\n",
      "Requirement already satisfied: six>=1.5 in d:\\anconda\\anaconda\\lib\\site-packages (from python-dateutil>=2.8.1->pandas>=0.23->pandas_datareader) (1.16.0)\n"
     ]
    }
   ],
   "source": [
    "# !pip install pandas_datareader"
   ]
  },
  {
   "cell_type": "code",
   "execution_count": 2,
   "metadata": {},
   "outputs": [],
   "source": [
    "import pandas as pd\n",
    "import numpy as np\n",
    "import pandas_datareader as pdr"
   ]
  },
  {
   "cell_type": "markdown",
   "metadata": {},
   "source": [
    "### Step 2. Create your time range (start and end variables). The start date should be 01/01/2015 and the end should today (whatever your today is)."
   ]
  },
  {
   "cell_type": "code",
   "execution_count": 3,
   "metadata": {},
   "outputs": [],
   "source": [
    "start_date = pd.to_datetime(\"01/01/2015\")\n",
    "end_date = np.datetime64(\"today\")"
   ]
  },
  {
   "cell_type": "markdown",
   "metadata": {},
   "source": [
    "### Step 3. Get an API key for one of the APIs that are supported by Pandas Datareader, preferably for AlphaVantage.\n",
    "\n",
    "If you do not have an API key for any of the supported APIs, it is easiest to get one for [AlphaVantage](https://www.alphavantage.co/support/#api-key). (Note that the API key is shown directly after the signup. You do *not* receive it via e-mail.)\n",
    "\n",
    "(For a full list of the APIs that are supported by Pandas Datareader, [see here](https://pydata.github.io/pandas-datareader/readers/index.html). As the APIs are provided by third parties, this list may change.)"
   ]
  },
  {
   "cell_type": "markdown",
   "metadata": {},
   "source": [
    "### Step 4. Use Pandas Datarader to read the daily time series for the Apple stock (ticker symbol AAPL) between 01/01/2015 and today, assign it to df_apple and print it."
   ]
  },
  {
   "cell_type": "code",
   "execution_count": 4,
   "metadata": {},
   "outputs": [],
   "source": [
    "df_apple = pdr.DataReader(\"AAPL\", \"av-daily\", \n",
    "                          start=start_date, end=end_date, \n",
    "                          api_key='GU3ZO8T5V8TEK6T6')"
   ]
  },
  {
   "cell_type": "code",
   "execution_count": 5,
   "metadata": {},
   "outputs": [
    {
     "name": "stdout",
     "output_type": "stream",
     "text": [
      "<class 'pandas.core.frame.DataFrame'>\n",
      "Index: 2218 entries, 2015-01-02 to 2023-10-24\n",
      "Data columns (total 5 columns):\n",
      " #   Column  Non-Null Count  Dtype  \n",
      "---  ------  --------------  -----  \n",
      " 0   open    2218 non-null   float64\n",
      " 1   high    2218 non-null   float64\n",
      " 2   low     2218 non-null   float64\n",
      " 3   close   2218 non-null   float64\n",
      " 4   volume  2218 non-null   int64  \n",
      "dtypes: float64(4), int64(1)\n",
      "memory usage: 104.0+ KB\n"
     ]
    }
   ],
   "source": [
    "df_apple.info()"
   ]
  },
  {
   "cell_type": "markdown",
   "metadata": {},
   "source": [
    "### Step 5. Add a new column \"stock\" to the dataframe and add the ticker symbol"
   ]
  },
  {
   "cell_type": "code",
   "execution_count": 6,
   "metadata": {},
   "outputs": [],
   "source": [
    "df_apple[\"stocks\"] = \"AAPL\""
   ]
  },
  {
   "cell_type": "code",
   "execution_count": 7,
   "metadata": {},
   "outputs": [
    {
     "data": {
      "text/html": [
       "<div>\n",
       "<style scoped>\n",
       "    .dataframe tbody tr th:only-of-type {\n",
       "        vertical-align: middle;\n",
       "    }\n",
       "\n",
       "    .dataframe tbody tr th {\n",
       "        vertical-align: top;\n",
       "    }\n",
       "\n",
       "    .dataframe thead th {\n",
       "        text-align: right;\n",
       "    }\n",
       "</style>\n",
       "<table border=\"1\" class=\"dataframe\">\n",
       "  <thead>\n",
       "    <tr style=\"text-align: right;\">\n",
       "      <th></th>\n",
       "      <th>open</th>\n",
       "      <th>high</th>\n",
       "      <th>low</th>\n",
       "      <th>close</th>\n",
       "      <th>volume</th>\n",
       "      <th>stocks</th>\n",
       "    </tr>\n",
       "  </thead>\n",
       "  <tbody>\n",
       "    <tr>\n",
       "      <th>2015-01-02</th>\n",
       "      <td>111.39</td>\n",
       "      <td>111.44</td>\n",
       "      <td>107.350</td>\n",
       "      <td>109.33</td>\n",
       "      <td>53204626</td>\n",
       "      <td>AAPL</td>\n",
       "    </tr>\n",
       "    <tr>\n",
       "      <th>2015-01-05</th>\n",
       "      <td>108.29</td>\n",
       "      <td>108.65</td>\n",
       "      <td>105.410</td>\n",
       "      <td>106.25</td>\n",
       "      <td>64285491</td>\n",
       "      <td>AAPL</td>\n",
       "    </tr>\n",
       "    <tr>\n",
       "      <th>2015-01-06</th>\n",
       "      <td>106.54</td>\n",
       "      <td>107.43</td>\n",
       "      <td>104.630</td>\n",
       "      <td>106.26</td>\n",
       "      <td>65797116</td>\n",
       "      <td>AAPL</td>\n",
       "    </tr>\n",
       "    <tr>\n",
       "      <th>2015-01-07</th>\n",
       "      <td>107.20</td>\n",
       "      <td>108.20</td>\n",
       "      <td>106.695</td>\n",
       "      <td>107.75</td>\n",
       "      <td>40105934</td>\n",
       "      <td>AAPL</td>\n",
       "    </tr>\n",
       "    <tr>\n",
       "      <th>2015-01-08</th>\n",
       "      <td>109.23</td>\n",
       "      <td>112.15</td>\n",
       "      <td>108.700</td>\n",
       "      <td>111.89</td>\n",
       "      <td>59364547</td>\n",
       "      <td>AAPL</td>\n",
       "    </tr>\n",
       "  </tbody>\n",
       "</table>\n",
       "</div>"
      ],
      "text/plain": [
       "              open    high      low   close    volume stocks\n",
       "2015-01-02  111.39  111.44  107.350  109.33  53204626   AAPL\n",
       "2015-01-05  108.29  108.65  105.410  106.25  64285491   AAPL\n",
       "2015-01-06  106.54  107.43  104.630  106.26  65797116   AAPL\n",
       "2015-01-07  107.20  108.20  106.695  107.75  40105934   AAPL\n",
       "2015-01-08  109.23  112.15  108.700  111.89  59364547   AAPL"
      ]
     },
     "execution_count": 7,
     "metadata": {},
     "output_type": "execute_result"
    }
   ],
   "source": [
    "df_apple.head()"
   ]
  },
  {
   "cell_type": "markdown",
   "metadata": {},
   "source": [
    "### Step 6. Repeat the two previous steps for a few other stocks, always creating a new dataframe: Tesla, IBM and Microsoft. (Ticker symbols TSLA, IBM and MSFT.)"
   ]
  },
  {
   "cell_type": "code",
   "execution_count": 8,
   "metadata": {},
   "outputs": [],
   "source": [
    "df_tesla = pdr.DataReader(\"TSLA\", \"av-daily\", \n",
    "                          start=start_date, end=end_date, \n",
    "                          api_key=\"GU3ZO8T5V8TEK6T6\")"
   ]
  },
  {
   "cell_type": "code",
   "execution_count": 9,
   "metadata": {},
   "outputs": [
    {
     "name": "stdout",
     "output_type": "stream",
     "text": [
      "<class 'pandas.core.frame.DataFrame'>\n",
      "Index: 2218 entries, 2015-01-02 to 2023-10-24\n",
      "Data columns (total 6 columns):\n",
      " #   Column  Non-Null Count  Dtype  \n",
      "---  ------  --------------  -----  \n",
      " 0   open    2218 non-null   float64\n",
      " 1   high    2218 non-null   float64\n",
      " 2   low     2218 non-null   float64\n",
      " 3   close   2218 non-null   float64\n",
      " 4   volume  2218 non-null   int64  \n",
      " 5   stocks  2218 non-null   object \n",
      "dtypes: float64(4), int64(1), object(1)\n",
      "memory usage: 121.3+ KB\n"
     ]
    }
   ],
   "source": [
    "df_tesla[\"stocks\"] = 'TSLA'\n",
    "df_tesla.info()"
   ]
  },
  {
   "cell_type": "code",
   "execution_count": 10,
   "metadata": {},
   "outputs": [],
   "source": [
    "df_ibm = pdr.DataReader(\"IBM\", \"av-daily\", \n",
    "                        start=start_date, end=end_date, \n",
    "                        api_key=\"GU3ZO8T5V8TEK6T6\")"
   ]
  },
  {
   "cell_type": "code",
   "execution_count": 11,
   "metadata": {},
   "outputs": [
    {
     "name": "stdout",
     "output_type": "stream",
     "text": [
      "<class 'pandas.core.frame.DataFrame'>\n",
      "Index: 2218 entries, 2015-01-02 to 2023-10-24\n",
      "Data columns (total 6 columns):\n",
      " #   Column  Non-Null Count  Dtype  \n",
      "---  ------  --------------  -----  \n",
      " 0   open    2218 non-null   float64\n",
      " 1   high    2218 non-null   float64\n",
      " 2   low     2218 non-null   float64\n",
      " 3   close   2218 non-null   float64\n",
      " 4   volume  2218 non-null   int64  \n",
      " 5   stocks  2218 non-null   object \n",
      "dtypes: float64(4), int64(1), object(1)\n",
      "memory usage: 121.3+ KB\n"
     ]
    }
   ],
   "source": [
    "df_ibm[\"stocks\"] = 'IBM'\n",
    "df_ibm.info()"
   ]
  },
  {
   "cell_type": "code",
   "execution_count": 12,
   "metadata": {},
   "outputs": [],
   "source": [
    "df_microsoft = pdr.DataReader(\"MSFT\", 'av-daily', \n",
    "                              start=start_date, end=end_date, \n",
    "                              api_key=\"GU3ZO8T5V8TEK6T6\")"
   ]
  },
  {
   "cell_type": "code",
   "execution_count": 13,
   "metadata": {},
   "outputs": [
    {
     "name": "stdout",
     "output_type": "stream",
     "text": [
      "<class 'pandas.core.frame.DataFrame'>\n",
      "Index: 2218 entries, 2015-01-02 to 2023-10-24\n",
      "Data columns (total 6 columns):\n",
      " #   Column  Non-Null Count  Dtype  \n",
      "---  ------  --------------  -----  \n",
      " 0   open    2218 non-null   float64\n",
      " 1   high    2218 non-null   float64\n",
      " 2   low     2218 non-null   float64\n",
      " 3   close   2218 non-null   float64\n",
      " 4   volume  2218 non-null   int64  \n",
      " 5   stocks  2218 non-null   object \n",
      "dtypes: float64(4), int64(1), object(1)\n",
      "memory usage: 121.3+ KB\n"
     ]
    }
   ],
   "source": [
    "df_microsoft[\"stocks\"] = 'MSFT'\n",
    "df_microsoft.info()"
   ]
  },
  {
   "cell_type": "markdown",
   "metadata": {},
   "source": [
    "### Step 7. Combine the four separate dataFrames into one combined dataFrame df that holds the information for all four stocks"
   ]
  },
  {
   "cell_type": "code",
   "execution_count": 56,
   "metadata": {},
   "outputs": [
    {
     "name": "stdout",
     "output_type": "stream",
     "text": [
      "<class 'pandas.core.frame.DataFrame'>\n",
      "DatetimeIndex: 8872 entries, 2015-01-02 to 2023-10-24\n",
      "Data columns (total 6 columns):\n",
      " #   Column  Non-Null Count  Dtype  \n",
      "---  ------  --------------  -----  \n",
      " 0   open    8872 non-null   float64\n",
      " 1   high    8872 non-null   float64\n",
      " 2   low     8872 non-null   float64\n",
      " 3   close   8872 non-null   float64\n",
      " 4   volume  8872 non-null   int64  \n",
      " 5   stocks  8872 non-null   object \n",
      "dtypes: float64(4), int64(1), object(1)\n",
      "memory usage: 485.2+ KB\n"
     ]
    }
   ],
   "source": [
    "df = pd.concat([df_apple, df_ibm, df_microsoft, df_tesla])\n",
    "df.index = pd.to_datetime(df.index)\n",
    "df.info()"
   ]
  },
  {
   "cell_type": "code",
   "execution_count": 57,
   "metadata": {},
   "outputs": [
    {
     "data": {
      "text/html": [
       "<div>\n",
       "<style scoped>\n",
       "    .dataframe tbody tr th:only-of-type {\n",
       "        vertical-align: middle;\n",
       "    }\n",
       "\n",
       "    .dataframe tbody tr th {\n",
       "        vertical-align: top;\n",
       "    }\n",
       "\n",
       "    .dataframe thead th {\n",
       "        text-align: right;\n",
       "    }\n",
       "</style>\n",
       "<table border=\"1\" class=\"dataframe\">\n",
       "  <thead>\n",
       "    <tr style=\"text-align: right;\">\n",
       "      <th></th>\n",
       "      <th>open</th>\n",
       "      <th>high</th>\n",
       "      <th>low</th>\n",
       "      <th>close</th>\n",
       "      <th>volume</th>\n",
       "      <th>stocks</th>\n",
       "    </tr>\n",
       "  </thead>\n",
       "  <tbody>\n",
       "    <tr>\n",
       "      <th>2015-01-02</th>\n",
       "      <td>111.39</td>\n",
       "      <td>111.44</td>\n",
       "      <td>107.350</td>\n",
       "      <td>109.33</td>\n",
       "      <td>53204626</td>\n",
       "      <td>AAPL</td>\n",
       "    </tr>\n",
       "    <tr>\n",
       "      <th>2015-01-05</th>\n",
       "      <td>108.29</td>\n",
       "      <td>108.65</td>\n",
       "      <td>105.410</td>\n",
       "      <td>106.25</td>\n",
       "      <td>64285491</td>\n",
       "      <td>AAPL</td>\n",
       "    </tr>\n",
       "    <tr>\n",
       "      <th>2015-01-06</th>\n",
       "      <td>106.54</td>\n",
       "      <td>107.43</td>\n",
       "      <td>104.630</td>\n",
       "      <td>106.26</td>\n",
       "      <td>65797116</td>\n",
       "      <td>AAPL</td>\n",
       "    </tr>\n",
       "    <tr>\n",
       "      <th>2015-01-07</th>\n",
       "      <td>107.20</td>\n",
       "      <td>108.20</td>\n",
       "      <td>106.695</td>\n",
       "      <td>107.75</td>\n",
       "      <td>40105934</td>\n",
       "      <td>AAPL</td>\n",
       "    </tr>\n",
       "    <tr>\n",
       "      <th>2015-01-08</th>\n",
       "      <td>109.23</td>\n",
       "      <td>112.15</td>\n",
       "      <td>108.700</td>\n",
       "      <td>111.89</td>\n",
       "      <td>59364547</td>\n",
       "      <td>AAPL</td>\n",
       "    </tr>\n",
       "  </tbody>\n",
       "</table>\n",
       "</div>"
      ],
      "text/plain": [
       "              open    high      low   close    volume stocks\n",
       "2015-01-02  111.39  111.44  107.350  109.33  53204626   AAPL\n",
       "2015-01-05  108.29  108.65  105.410  106.25  64285491   AAPL\n",
       "2015-01-06  106.54  107.43  104.630  106.26  65797116   AAPL\n",
       "2015-01-07  107.20  108.20  106.695  107.75  40105934   AAPL\n",
       "2015-01-08  109.23  112.15  108.700  111.89  59364547   AAPL"
      ]
     },
     "execution_count": 57,
     "metadata": {},
     "output_type": "execute_result"
    }
   ],
   "source": [
    "df.head()"
   ]
  },
  {
   "cell_type": "markdown",
   "metadata": {},
   "source": [
    "### Step 8. Shift the stock column into the index (making it a multi-level index consisting of the ticker symbol and the date)."
   ]
  },
  {
   "cell_type": "code",
   "execution_count": 58,
   "metadata": {},
   "outputs": [
    {
     "data": {
      "text/html": [
       "<div>\n",
       "<style scoped>\n",
       "    .dataframe tbody tr th:only-of-type {\n",
       "        vertical-align: middle;\n",
       "    }\n",
       "\n",
       "    .dataframe tbody tr th {\n",
       "        vertical-align: top;\n",
       "    }\n",
       "\n",
       "    .dataframe thead th {\n",
       "        text-align: right;\n",
       "    }\n",
       "</style>\n",
       "<table border=\"1\" class=\"dataframe\">\n",
       "  <thead>\n",
       "    <tr style=\"text-align: right;\">\n",
       "      <th></th>\n",
       "      <th></th>\n",
       "      <th>open</th>\n",
       "      <th>high</th>\n",
       "      <th>low</th>\n",
       "      <th>close</th>\n",
       "      <th>volume</th>\n",
       "    </tr>\n",
       "    <tr>\n",
       "      <th>stocks</th>\n",
       "      <th></th>\n",
       "      <th></th>\n",
       "      <th></th>\n",
       "      <th></th>\n",
       "      <th></th>\n",
       "      <th></th>\n",
       "    </tr>\n",
       "  </thead>\n",
       "  <tbody>\n",
       "    <tr>\n",
       "      <th rowspan=\"5\" valign=\"top\">AAPL</th>\n",
       "      <th>2015-01-02</th>\n",
       "      <td>111.39</td>\n",
       "      <td>111.4400</td>\n",
       "      <td>107.350</td>\n",
       "      <td>109.33</td>\n",
       "      <td>53204626</td>\n",
       "    </tr>\n",
       "    <tr>\n",
       "      <th>2015-01-05</th>\n",
       "      <td>108.29</td>\n",
       "      <td>108.6500</td>\n",
       "      <td>105.410</td>\n",
       "      <td>106.25</td>\n",
       "      <td>64285491</td>\n",
       "    </tr>\n",
       "    <tr>\n",
       "      <th>2015-01-06</th>\n",
       "      <td>106.54</td>\n",
       "      <td>107.4300</td>\n",
       "      <td>104.630</td>\n",
       "      <td>106.26</td>\n",
       "      <td>65797116</td>\n",
       "    </tr>\n",
       "    <tr>\n",
       "      <th>2015-01-07</th>\n",
       "      <td>107.20</td>\n",
       "      <td>108.2000</td>\n",
       "      <td>106.695</td>\n",
       "      <td>107.75</td>\n",
       "      <td>40105934</td>\n",
       "    </tr>\n",
       "    <tr>\n",
       "      <th>2015-01-08</th>\n",
       "      <td>109.23</td>\n",
       "      <td>112.1500</td>\n",
       "      <td>108.700</td>\n",
       "      <td>111.89</td>\n",
       "      <td>59364547</td>\n",
       "    </tr>\n",
       "    <tr>\n",
       "      <th>...</th>\n",
       "      <th>...</th>\n",
       "      <td>...</td>\n",
       "      <td>...</td>\n",
       "      <td>...</td>\n",
       "      <td>...</td>\n",
       "      <td>...</td>\n",
       "    </tr>\n",
       "    <tr>\n",
       "      <th rowspan=\"5\" valign=\"top\">TSLA</th>\n",
       "      <th>2023-10-18</th>\n",
       "      <td>252.70</td>\n",
       "      <td>254.6300</td>\n",
       "      <td>242.080</td>\n",
       "      <td>242.68</td>\n",
       "      <td>125147846</td>\n",
       "    </tr>\n",
       "    <tr>\n",
       "      <th>2023-10-19</th>\n",
       "      <td>225.95</td>\n",
       "      <td>230.6100</td>\n",
       "      <td>216.780</td>\n",
       "      <td>220.11</td>\n",
       "      <td>170772713</td>\n",
       "    </tr>\n",
       "    <tr>\n",
       "      <th>2023-10-20</th>\n",
       "      <td>217.01</td>\n",
       "      <td>218.8606</td>\n",
       "      <td>210.420</td>\n",
       "      <td>211.99</td>\n",
       "      <td>138010095</td>\n",
       "    </tr>\n",
       "    <tr>\n",
       "      <th>2023-10-23</th>\n",
       "      <td>210.00</td>\n",
       "      <td>216.9800</td>\n",
       "      <td>202.510</td>\n",
       "      <td>212.08</td>\n",
       "      <td>150683368</td>\n",
       "    </tr>\n",
       "    <tr>\n",
       "      <th>2023-10-24</th>\n",
       "      <td>216.50</td>\n",
       "      <td>222.0500</td>\n",
       "      <td>214.110</td>\n",
       "      <td>216.52</td>\n",
       "      <td>118231113</td>\n",
       "    </tr>\n",
       "  </tbody>\n",
       "</table>\n",
       "<p>8872 rows × 5 columns</p>\n",
       "</div>"
      ],
      "text/plain": [
       "                     open      high      low   close     volume\n",
       "stocks                                                         \n",
       "AAPL   2015-01-02  111.39  111.4400  107.350  109.33   53204626\n",
       "       2015-01-05  108.29  108.6500  105.410  106.25   64285491\n",
       "       2015-01-06  106.54  107.4300  104.630  106.26   65797116\n",
       "       2015-01-07  107.20  108.2000  106.695  107.75   40105934\n",
       "       2015-01-08  109.23  112.1500  108.700  111.89   59364547\n",
       "...                   ...       ...      ...     ...        ...\n",
       "TSLA   2023-10-18  252.70  254.6300  242.080  242.68  125147846\n",
       "       2023-10-19  225.95  230.6100  216.780  220.11  170772713\n",
       "       2023-10-20  217.01  218.8606  210.420  211.99  138010095\n",
       "       2023-10-23  210.00  216.9800  202.510  212.08  150683368\n",
       "       2023-10-24  216.50  222.0500  214.110  216.52  118231113\n",
       "\n",
       "[8872 rows x 5 columns]"
      ]
     },
     "execution_count": 58,
     "metadata": {},
     "output_type": "execute_result"
    }
   ],
   "source": [
    "df.set_index([\"stocks\", df.index])"
   ]
  },
  {
   "cell_type": "markdown",
   "metadata": {},
   "source": [
    "### Step 7. Create a dataFrame called vol, with the volume values."
   ]
  },
  {
   "cell_type": "code",
   "execution_count": 59,
   "metadata": {},
   "outputs": [],
   "source": [
    "vol = df[[\"volume\"]]"
   ]
  },
  {
   "cell_type": "code",
   "execution_count": 60,
   "metadata": {},
   "outputs": [
    {
     "data": {
      "text/html": [
       "<div>\n",
       "<style scoped>\n",
       "    .dataframe tbody tr th:only-of-type {\n",
       "        vertical-align: middle;\n",
       "    }\n",
       "\n",
       "    .dataframe tbody tr th {\n",
       "        vertical-align: top;\n",
       "    }\n",
       "\n",
       "    .dataframe thead th {\n",
       "        text-align: right;\n",
       "    }\n",
       "</style>\n",
       "<table border=\"1\" class=\"dataframe\">\n",
       "  <thead>\n",
       "    <tr style=\"text-align: right;\">\n",
       "      <th></th>\n",
       "      <th>volume</th>\n",
       "    </tr>\n",
       "  </thead>\n",
       "  <tbody>\n",
       "    <tr>\n",
       "      <th>2015-01-02</th>\n",
       "      <td>53204626</td>\n",
       "    </tr>\n",
       "    <tr>\n",
       "      <th>2015-01-05</th>\n",
       "      <td>64285491</td>\n",
       "    </tr>\n",
       "    <tr>\n",
       "      <th>2015-01-06</th>\n",
       "      <td>65797116</td>\n",
       "    </tr>\n",
       "    <tr>\n",
       "      <th>2015-01-07</th>\n",
       "      <td>40105934</td>\n",
       "    </tr>\n",
       "    <tr>\n",
       "      <th>2015-01-08</th>\n",
       "      <td>59364547</td>\n",
       "    </tr>\n",
       "    <tr>\n",
       "      <th>2015-01-09</th>\n",
       "      <td>53315099</td>\n",
       "    </tr>\n",
       "    <tr>\n",
       "      <th>2015-01-12</th>\n",
       "      <td>49650790</td>\n",
       "    </tr>\n",
       "    <tr>\n",
       "      <th>2015-01-13</th>\n",
       "      <td>67091928</td>\n",
       "    </tr>\n",
       "    <tr>\n",
       "      <th>2015-01-14</th>\n",
       "      <td>48956588</td>\n",
       "    </tr>\n",
       "    <tr>\n",
       "      <th>2015-01-15</th>\n",
       "      <td>60013996</td>\n",
       "    </tr>\n",
       "    <tr>\n",
       "      <th>2015-01-16</th>\n",
       "      <td>78513345</td>\n",
       "    </tr>\n",
       "    <tr>\n",
       "      <th>2015-01-20</th>\n",
       "      <td>49899907</td>\n",
       "    </tr>\n",
       "    <tr>\n",
       "      <th>2015-01-21</th>\n",
       "      <td>48575897</td>\n",
       "    </tr>\n",
       "    <tr>\n",
       "      <th>2015-01-22</th>\n",
       "      <td>53796409</td>\n",
       "    </tr>\n",
       "    <tr>\n",
       "      <th>2015-01-23</th>\n",
       "      <td>46464828</td>\n",
       "    </tr>\n",
       "    <tr>\n",
       "      <th>2015-01-26</th>\n",
       "      <td>55614979</td>\n",
       "    </tr>\n",
       "    <tr>\n",
       "      <th>2015-01-27</th>\n",
       "      <td>95568749</td>\n",
       "    </tr>\n",
       "    <tr>\n",
       "      <th>2015-01-28</th>\n",
       "      <td>146477063</td>\n",
       "    </tr>\n",
       "    <tr>\n",
       "      <th>2015-01-29</th>\n",
       "      <td>84436432</td>\n",
       "    </tr>\n",
       "    <tr>\n",
       "      <th>2015-01-30</th>\n",
       "      <td>83745461</td>\n",
       "    </tr>\n",
       "  </tbody>\n",
       "</table>\n",
       "</div>"
      ],
      "text/plain": [
       "               volume\n",
       "2015-01-02   53204626\n",
       "2015-01-05   64285491\n",
       "2015-01-06   65797116\n",
       "2015-01-07   40105934\n",
       "2015-01-08   59364547\n",
       "2015-01-09   53315099\n",
       "2015-01-12   49650790\n",
       "2015-01-13   67091928\n",
       "2015-01-14   48956588\n",
       "2015-01-15   60013996\n",
       "2015-01-16   78513345\n",
       "2015-01-20   49899907\n",
       "2015-01-21   48575897\n",
       "2015-01-22   53796409\n",
       "2015-01-23   46464828\n",
       "2015-01-26   55614979\n",
       "2015-01-27   95568749\n",
       "2015-01-28  146477063\n",
       "2015-01-29   84436432\n",
       "2015-01-30   83745461"
      ]
     },
     "execution_count": 60,
     "metadata": {},
     "output_type": "execute_result"
    }
   ],
   "source": [
    "vol.head(20)"
   ]
  },
  {
   "cell_type": "markdown",
   "metadata": {},
   "source": [
    "### Step 8. Aggregate the data of volume to weekly.\n",
    "Hint: Be careful to not sum data from the same week of 2015 and other years."
   ]
  },
  {
   "cell_type": "code",
   "execution_count": 111,
   "metadata": {},
   "outputs": [],
   "source": [
    "weekly_vol = vol.resample(\"W\").agg([\"sum\",\"max\", \"min\"])\n",
    "weekly_vol[\"week\"] = weekly_vol.index.isocalendar().week\n",
    "\n",
    "# Reordering The Columns\n",
    "weekly_vol = weekly_vol[[\"week\", \"volume\"]]"
   ]
  },
  {
   "cell_type": "code",
   "execution_count": 112,
   "metadata": {},
   "outputs": [
    {
     "data": {
      "text/html": [
       "<div>\n",
       "<style scoped>\n",
       "    .dataframe tbody tr th:only-of-type {\n",
       "        vertical-align: middle;\n",
       "    }\n",
       "\n",
       "    .dataframe tbody tr th {\n",
       "        vertical-align: top;\n",
       "    }\n",
       "\n",
       "    .dataframe thead tr th {\n",
       "        text-align: left;\n",
       "    }\n",
       "</style>\n",
       "<table border=\"1\" class=\"dataframe\">\n",
       "  <thead>\n",
       "    <tr>\n",
       "      <th></th>\n",
       "      <th>week</th>\n",
       "      <th colspan=\"3\" halign=\"left\">volume</th>\n",
       "    </tr>\n",
       "    <tr>\n",
       "      <th></th>\n",
       "      <th></th>\n",
       "      <th>sum</th>\n",
       "      <th>max</th>\n",
       "      <th>min</th>\n",
       "    </tr>\n",
       "  </thead>\n",
       "  <tbody>\n",
       "    <tr>\n",
       "      <th>2015-01-04</th>\n",
       "      <td>1</td>\n",
       "      <td>91408262</td>\n",
       "      <td>53204626</td>\n",
       "      <td>4764443</td>\n",
       "    </tr>\n",
       "    <tr>\n",
       "      <th>2015-01-11</th>\n",
       "      <td>2</td>\n",
       "      <td>488527205</td>\n",
       "      <td>65797116</td>\n",
       "      <td>2968390</td>\n",
       "    </tr>\n",
       "    <tr>\n",
       "      <th>2015-01-18</th>\n",
       "      <td>3</td>\n",
       "      <td>515385976</td>\n",
       "      <td>78513345</td>\n",
       "      <td>3603158</td>\n",
       "    </tr>\n",
       "    <tr>\n",
       "      <th>2015-01-25</th>\n",
       "      <td>4</td>\n",
       "      <td>383535971</td>\n",
       "      <td>53796409</td>\n",
       "      <td>3442371</td>\n",
       "    </tr>\n",
       "    <tr>\n",
       "      <th>2015-02-01</th>\n",
       "      <td>5</td>\n",
       "      <td>952276986</td>\n",
       "      <td>169163953</td>\n",
       "      <td>2781024</td>\n",
       "    </tr>\n",
       "    <tr>\n",
       "      <th>2015-02-08</th>\n",
       "      <td>6</td>\n",
       "      <td>527459433</td>\n",
       "      <td>70149743</td>\n",
       "      <td>3243931</td>\n",
       "    </tr>\n",
       "    <tr>\n",
       "      <th>2015-02-15</th>\n",
       "      <td>7</td>\n",
       "      <td>534692182</td>\n",
       "      <td>74474466</td>\n",
       "      <td>3057502</td>\n",
       "    </tr>\n",
       "    <tr>\n",
       "      <th>2015-02-22</th>\n",
       "      <td>8</td>\n",
       "      <td>344425275</td>\n",
       "      <td>63152405</td>\n",
       "      <td>2713598</td>\n",
       "    </tr>\n",
       "    <tr>\n",
       "      <th>2015-03-01</th>\n",
       "      <td>9</td>\n",
       "      <td>570840773</td>\n",
       "      <td>91287529</td>\n",
       "      <td>2714434</td>\n",
       "    </tr>\n",
       "    <tr>\n",
       "      <th>2015-03-08</th>\n",
       "      <td>10</td>\n",
       "      <td>445085065</td>\n",
       "      <td>72842060</td>\n",
       "      <td>3234068</td>\n",
       "    </tr>\n",
       "    <tr>\n",
       "      <th>2015-03-15</th>\n",
       "      <td>11</td>\n",
       "      <td>601007579</td>\n",
       "      <td>88528487</td>\n",
       "      <td>4149294</td>\n",
       "    </tr>\n",
       "    <tr>\n",
       "      <th>2015-03-22</th>\n",
       "      <td>12</td>\n",
       "      <td>537371595</td>\n",
       "      <td>71904529</td>\n",
       "      <td>3311792</td>\n",
       "    </tr>\n",
       "    <tr>\n",
       "      <th>2015-03-29</th>\n",
       "      <td>13</td>\n",
       "      <td>424766436</td>\n",
       "      <td>51655177</td>\n",
       "      <td>2631626</td>\n",
       "    </tr>\n",
       "    <tr>\n",
       "      <th>2015-04-05</th>\n",
       "      <td>14</td>\n",
       "      <td>347008089</td>\n",
       "      <td>47099670</td>\n",
       "      <td>3700791</td>\n",
       "    </tr>\n",
       "    <tr>\n",
       "      <th>2015-04-12</th>\n",
       "      <td>15</td>\n",
       "      <td>373631537</td>\n",
       "      <td>40187953</td>\n",
       "      <td>2263490</td>\n",
       "    </tr>\n",
       "    <tr>\n",
       "      <th>2015-04-19</th>\n",
       "      <td>16</td>\n",
       "      <td>348346420</td>\n",
       "      <td>51957046</td>\n",
       "      <td>1659059</td>\n",
       "    </tr>\n",
       "    <tr>\n",
       "      <th>2015-04-26</th>\n",
       "      <td>17</td>\n",
       "      <td>537949881</td>\n",
       "      <td>130933665</td>\n",
       "      <td>2427843</td>\n",
       "    </tr>\n",
       "    <tr>\n",
       "      <th>2015-05-03</th>\n",
       "      <td>18</td>\n",
       "      <td>745181006</td>\n",
       "      <td>118923970</td>\n",
       "      <td>3166588</td>\n",
       "    </tr>\n",
       "    <tr>\n",
       "      <th>2015-05-10</th>\n",
       "      <td>19</td>\n",
       "      <td>523490230</td>\n",
       "      <td>72141010</td>\n",
       "      <td>2472627</td>\n",
       "    </tr>\n",
       "    <tr>\n",
       "      <th>2015-05-17</th>\n",
       "      <td>20</td>\n",
       "      <td>396981822</td>\n",
       "      <td>48160032</td>\n",
       "      <td>2438669</td>\n",
       "    </tr>\n",
       "    <tr>\n",
       "      <th>2015-05-24</th>\n",
       "      <td>21</td>\n",
       "      <td>370104292</td>\n",
       "      <td>50882918</td>\n",
       "      <td>1970630</td>\n",
       "    </tr>\n",
       "    <tr>\n",
       "      <th>2015-05-31</th>\n",
       "      <td>22</td>\n",
       "      <td>337648693</td>\n",
       "      <td>70697560</td>\n",
       "      <td>1731372</td>\n",
       "    </tr>\n",
       "    <tr>\n",
       "      <th>2015-06-07</th>\n",
       "      <td>23</td>\n",
       "      <td>328127417</td>\n",
       "      <td>38450118</td>\n",
       "      <td>1781505</td>\n",
       "    </tr>\n",
       "    <tr>\n",
       "      <th>2015-06-14</th>\n",
       "      <td>24</td>\n",
       "      <td>379251674</td>\n",
       "      <td>56075420</td>\n",
       "      <td>1422335</td>\n",
       "    </tr>\n",
       "    <tr>\n",
       "      <th>2015-06-21</th>\n",
       "      <td>25</td>\n",
       "      <td>419740383</td>\n",
       "      <td>63837036</td>\n",
       "      <td>1984678</td>\n",
       "    </tr>\n",
       "  </tbody>\n",
       "</table>\n",
       "</div>"
      ],
      "text/plain": [
       "           week     volume                    \n",
       "                       sum        max      min\n",
       "2015-01-04    1   91408262   53204626  4764443\n",
       "2015-01-11    2  488527205   65797116  2968390\n",
       "2015-01-18    3  515385976   78513345  3603158\n",
       "2015-01-25    4  383535971   53796409  3442371\n",
       "2015-02-01    5  952276986  169163953  2781024\n",
       "2015-02-08    6  527459433   70149743  3243931\n",
       "2015-02-15    7  534692182   74474466  3057502\n",
       "2015-02-22    8  344425275   63152405  2713598\n",
       "2015-03-01    9  570840773   91287529  2714434\n",
       "2015-03-08   10  445085065   72842060  3234068\n",
       "2015-03-15   11  601007579   88528487  4149294\n",
       "2015-03-22   12  537371595   71904529  3311792\n",
       "2015-03-29   13  424766436   51655177  2631626\n",
       "2015-04-05   14  347008089   47099670  3700791\n",
       "2015-04-12   15  373631537   40187953  2263490\n",
       "2015-04-19   16  348346420   51957046  1659059\n",
       "2015-04-26   17  537949881  130933665  2427843\n",
       "2015-05-03   18  745181006  118923970  3166588\n",
       "2015-05-10   19  523490230   72141010  2472627\n",
       "2015-05-17   20  396981822   48160032  2438669\n",
       "2015-05-24   21  370104292   50882918  1970630\n",
       "2015-05-31   22  337648693   70697560  1731372\n",
       "2015-06-07   23  328127417   38450118  1781505\n",
       "2015-06-14   24  379251674   56075420  1422335\n",
       "2015-06-21   25  419740383   63837036  1984678"
      ]
     },
     "execution_count": 112,
     "metadata": {},
     "output_type": "execute_result"
    }
   ],
   "source": [
    "weekly_vol.head(25)"
   ]
  },
  {
   "cell_type": "markdown",
   "metadata": {},
   "source": [
    "### Step 9. Find all the volume traded in the year of 2015"
   ]
  },
  {
   "cell_type": "code",
   "execution_count": 113,
   "metadata": {},
   "outputs": [
    {
     "data": {
      "text/plain": [
       "24314152987"
      ]
     },
     "execution_count": 113,
     "metadata": {},
     "output_type": "execute_result"
    }
   ],
   "source": [
    "# Filter Using Original DF\n",
    "filt = (df.index.year == 2015)\n",
    "df.loc[filt, \"volume\"].sum()"
   ]
  },
  {
   "cell_type": "code",
   "execution_count": 114,
   "metadata": {},
   "outputs": [
    {
     "data": {
      "text/plain": [
       "volume    24314152987\n",
       "dtype: int64"
      ]
     },
     "execution_count": 114,
     "metadata": {},
     "output_type": "execute_result"
    }
   ],
   "source": [
    "# Another Way: Filter Using Vol DF\n",
    "vol[vol.index.year == 2015].sum()"
   ]
  }
 ],
 "metadata": {
  "kernelspec": {
   "display_name": "Python 3 (ipykernel)",
   "language": "python",
   "name": "python3"
  },
  "language_info": {
   "codemirror_mode": {
    "name": "ipython",
    "version": 3
   },
   "file_extension": ".py",
   "mimetype": "text/x-python",
   "name": "python",
   "nbconvert_exporter": "python",
   "pygments_lexer": "ipython3",
   "version": "3.10.9"
  }
 },
 "nbformat": 4,
 "nbformat_minor": 1
}
